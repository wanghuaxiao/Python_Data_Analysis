{
 "cells": [
  {
   "cell_type": "markdown",
   "metadata": {},
   "source": [
    "## 2.3 NumPy 数组的计算: 通用函数\n",
    "##### 本笔记根据<<数据科学手册>> Python Data Science Handbook一书整理.\n",
    "NumPy提供了一个简单灵活的接口来优化数据数组的计算.NumPy数组的计算有时候非常快, 有时候非常慢.快的原因是利用了向量化操作.通常在NumPy的通用函数(ufunc)中实现.能提高数组元素重复计算的效率."
   ]
  },
  {
   "cell_type": "markdown",
   "metadata": {},
   "source": [
    "### 2.3.1 缓慢的循环\n",
    "许多小的操作需要不断的重复的时候,导致Python运行缓慢, 比如对数组的每个元素进行循环操作."
   ]
  },
  {
   "cell_type": "markdown",
   "metadata": {},
   "source": [
    "对数组的每个元素进行求倒数操作"
   ]
  },
  {
   "cell_type": "code",
   "execution_count": 18,
   "metadata": {},
   "outputs": [
    {
     "data": {
      "text/plain": [
       "array([0.16666667, 1.        , 0.25      , 0.25      , 0.125     ])"
      ]
     },
     "execution_count": 18,
     "metadata": {},
     "output_type": "execute_result"
    }
   ],
   "source": [
    "import numpy as np\n",
    "np.random.seed(0)\n",
    "\n",
    "def daoshu(values):\n",
    "    output = np.empty(len(values))    # 把m写成了n,犯错\n",
    "    for i in range(len(values)):\n",
    "        output[i] = 1.0 / values[i]\n",
    "    return output\n",
    "values = np.random.randint(1,10,size=5)\n",
    "daoshu(values)                        # 可以 help(np.empth) 或 help(np.random.randint)需求帮助"
   ]
  },
  {
   "cell_type": "code",
   "execution_count": 12,
   "metadata": {},
   "outputs": [
    {
     "data": {
      "text/plain": [
       "[0.16666666666666666,\n",
       " 1.0,\n",
       " 0.125,\n",
       " 0.125,\n",
       " 0.2,\n",
       " 0.125,\n",
       " 0.16666666666666666,\n",
       " 0.25,\n",
       " 0.25]"
      ]
     },
     "execution_count": 12,
     "metadata": {},
     "output_type": "execute_result"
    }
   ],
   "source": [
    "# 换一种写法 ,返回的是一个序列\n",
    "import numpy as np\n",
    "np.random.seed(0)\n",
    "\n",
    "def daoshu(values):\n",
    "    output = []\n",
    "    for i in values:\n",
    "        output.append(1.0 / values[i]) \n",
    "    return output\n",
    "values = np.random.randint(1,10,size=9)         #为什么size变成9以下的时候会报错呢?\n",
    "daoshu(values)"
   ]
  },
  {
   "cell_type": "markdown",
   "metadata": {},
   "source": [
    "### 2.3.2 通用函数介绍\n",
    "NumPy为很多类型的操作提供了非常方便的,静态类型的,可编译程序的接口,也别称作***向量操作***\n",
    "NumPy中向量操作是通过***通用函数***实现的.通用函数的主要目的是对NumPy数组中的值执行更快的重复操作. "
   ]
  },
  {
   "cell_type": "code",
   "execution_count": 19,
   "metadata": {},
   "outputs": [
    {
     "name": "stdout",
     "output_type": "stream",
     "text": [
      "[0.16666667 1.         0.25       0.25       0.125     ]\n",
      "[0.16666667 1.         0.25       0.25       0.125     ]\n"
     ]
    }
   ],
   "source": [
    "print(daoshu(values))\n",
    "print(1.0 / values)"
   ]
  },
  {
   "cell_type": "code",
   "execution_count": 20,
   "metadata": {
    "scrolled": false
   },
   "outputs": [
    {
     "name": "stdout",
     "output_type": "stream",
     "text": [
      "[0 1 2 3 4]\n",
      "[1 2 3 4 5]\n",
      "********************\n",
      "[0.         0.5        0.66666667 0.75       0.8       ]\n"
     ]
    }
   ],
   "source": [
    "print(np.arange(5))\n",
    "print(np.arange(1,6))\n",
    "print('*'*20)\n",
    "print(np.arange(5) / np.arange(1,6))   # 这个不就是两个数组相除吗 通用函数?"
   ]
  },
  {
   "cell_type": "code",
   "execution_count": 22,
   "metadata": {
    "scrolled": true
   },
   "outputs": [
    {
     "name": "stdout",
     "output_type": "stream",
     "text": [
      "[[0 1 2]\n",
      " [3 4 5]\n",
      " [6 7 8]]\n",
      "********************\n",
      "[[  1   2   4]\n",
      " [  8  16  32]\n",
      " [ 64 128 256]]\n",
      "********************\n",
      "[[ 0  1  4]\n",
      " [ 9 16 25]\n",
      " [36 49 64]]\n"
     ]
    }
   ],
   "source": [
    "x = np.arange(9).reshape(3,3)      # 用np中的arange函数生成一个0-8的一维数组,然后通过reshape函数转换成3*3的二维数组\n",
    "print(x)\n",
    "print('*'*20)\n",
    "print(2 ** x)\n",
    "print('*'*20)\n",
    "print(x **2)"
   ]
  },
  {
   "cell_type": "markdown",
   "metadata": {},
   "source": [
    "### 2.3.3 探索NumPy中的通用函数"
   ]
  },
  {
   "cell_type": "markdown",
   "metadata": {},
   "source": [
    "#### 分类:\n",
    "    一元通用函数(unary ufunc):对单个输入操作\n",
    "    二元通用函数(binary ufunc):多两个输入操作"
   ]
  },
  {
   "cell_type": "markdown",
   "metadata": {},
   "source": [
    "***数组的运算*** : 标准 + - * / 都可以用"
   ]
  },
  {
   "cell_type": "code",
   "execution_count": 28,
   "metadata": {},
   "outputs": [
    {
     "name": "stdout",
     "output_type": "stream",
     "text": [
      "x = [0 1 2 3]\n",
      "********************\n",
      "x + 5 = [5 6 7 8]\n",
      "********************\n",
      "x - 5 = [-5 -4 -3 -2]\n",
      "********************\n",
      "x * 2 = [0 2 4 6]\n",
      "********************\n",
      "x / 3 = [0.         0.33333333 0.66666667 1.        ]\n"
     ]
    }
   ],
   "source": [
    "x = np.arange(4)     \n",
    "print('x =',x)\n",
    "print('*'*20)\n",
    "print('x + 5 =',x + 5)\n",
    "print('*'*20)\n",
    "print('x - 5 =',x - 5)\n",
    "print('*'*20)\n",
    "print('x * 2 =',x * 2)\n",
    "print('*'*20)\n",
    "print('x / 3 =',x / 3)"
   ]
  },
  {
   "cell_type": "markdown",
   "metadata": {},
   "source": [
    "取负数,整除,取模"
   ]
  },
  {
   "cell_type": "code",
   "execution_count": 31,
   "metadata": {},
   "outputs": [
    {
     "name": "stdout",
     "output_type": "stream",
     "text": [
      "-x= [ 0 -1 -2 -3]\n",
      "x % 2 = [0 1 0 1]\n",
      "x // 2= [0 0 1 1]\n"
     ]
    }
   ],
   "source": [
    "print('-x=',-x)\n",
    "print('x % 2 =',x % 2)\n",
    "print('x // 2=',x // 2)"
   ]
  },
  {
   "cell_type": "markdown",
   "metadata": {},
   "source": [
    "***所有这些算术运算符都是NumPy内置函数的简单封装器,例如 + 运算符就是一个add函数的封装器***,这句话能说的更通俗点吗?"
   ]
  },
  {
   "cell_type": "markdown",
   "metadata": {},
   "source": [
    "| 运算法 | 对应通用函数 | 描述 |\n",
    "| ------ | ------------ |---- |\n",
    "| + | np.add | 加法运算\n",
    "| - | np.subtract | 减法运算\n",
    "| - | np.negative | 负数运算\n",
    "| * | np.multiply | 乘法运算\n",
    "| / | np.divide |除法运算\n",
    "| // | np.floor_divide | 地板除法运算\n",
    "| ** | np.power | 指数运算\n",
    "| % | np.mod | 模 余数运算\n"
   ]
  },
  {
   "cell_type": "code",
   "execution_count": 33,
   "metadata": {},
   "outputs": [
    {
     "name": "stdout",
     "output_type": "stream",
     "text": [
      "[0 1 2 3]\n"
     ]
    },
    {
     "data": {
      "text/plain": [
       "array([2, 3, 4, 5])"
      ]
     },
     "execution_count": 33,
     "metadata": {},
     "output_type": "execute_result"
    }
   ],
   "source": [
    "print(x)\n",
    "np.add(x,2)"
   ]
  },
  {
   "cell_type": "markdown",
   "metadata": {},
   "source": [
    "***绝对值*** : NumPy能理解Python的内置运算操作,也能理解Python内置绝对值函数"
   ]
  },
  {
   "cell_type": "code",
   "execution_count": 35,
   "metadata": {},
   "outputs": [
    {
     "data": {
      "text/plain": [
       "array([100,  10,   0,   2,   5])"
      ]
     },
     "execution_count": 35,
     "metadata": {},
     "output_type": "execute_result"
    }
   ],
   "source": [
    "x = np.array([-100,-10,0,2,5])\n",
    "abs(x)     # 是abs 不是abx"
   ]
  },
  {
   "cell_type": "markdown",
   "metadata": {},
   "source": [
    "abs是Python中的内置函数, NumPy中绝对值的通用函数是 np.abssolute\n",
    "abs函数也可以处理复数, 此时返回该复数的模. 有点深奥?"
   ]
  },
  {
   "cell_type": "code",
   "execution_count": 36,
   "metadata": {},
   "outputs": [
    {
     "data": {
      "text/plain": [
       "array([100,  10,   0,   2,   5])"
      ]
     },
     "execution_count": 36,
     "metadata": {},
     "output_type": "execute_result"
    }
   ],
   "source": [
    "np.abs(x)     # 这样写也行?\n",
    "np.absolute(x)"
   ]
  },
  {
   "cell_type": "markdown",
   "metadata": {},
   "source": [
    "***三角函数***\n",
    "    - 数据科学家喜欢\n",
    "    - np.linspace()\n",
    "    - np.sin()\n",
    "    - np.cos()\n",
    "    - np.tan()\n",
    "    - np.arcsin()\n",
    "    - np.arccos()\n",
    "    - np.arctan()"
   ]
  },
  {
   "cell_type": "markdown",
   "metadata": {},
   "source": [
    "***指数和对数***"
   ]
  },
  {
   "cell_type": "code",
   "execution_count": 37,
   "metadata": {},
   "outputs": [
    {
     "name": "stdout",
     "output_type": "stream",
     "text": [
      "<class 'list'>\n",
      "<class 'numpy.ndarray'>\n"
     ]
    }
   ],
   "source": [
    "x1 = [1,2,3]\n",
    "x2 = np.array([1,2,3])\n",
    "print(type(x1))\n",
    "print(type(x2))"
   ]
  },
  {
   "cell_type": "code",
   "execution_count": 42,
   "metadata": {},
   "outputs": [
    {
     "name": "stdout",
     "output_type": "stream",
     "text": [
      "[1, 2, 3]\n",
      "[ 2.71828183  7.3890561  20.08553692]\n",
      "[2. 4. 8.]\n",
      "[ 3  9 27]\n"
     ]
    }
   ],
   "source": [
    "print(x1)\n",
    "print(np.exp(x1))\n",
    "print(np.exp2(x1))        # 和上面有什么差别?\n",
    "print(np.power(3,x1))    #  3 在前面, x1在后面"
   ]
  },
  {
   "cell_type": "code",
   "execution_count": 44,
   "metadata": {},
   "outputs": [
    {
     "name": "stdout",
     "output_type": "stream",
     "text": [
      "[0.         0.0010005  0.01005017 0.10517092]\n",
      "[0.         0.0009995  0.00995033 0.09531018]\n"
     ]
    }
   ],
   "source": [
    "#以下两个函数计算结果精度更高\n",
    "x2 = [0,0.001,0.01,0.1]\n",
    "print(np.expm1(x2))\n",
    "print(np.log1p(x2))"
   ]
  },
  {
   "cell_type": "markdown",
   "metadata": {},
   "source": [
    "***专用通用函数***\n",
    "    - 更多晦涩的通用函数在子模块scipy.special中"
   ]
  },
  {
   "cell_type": "code",
   "execution_count": 45,
   "metadata": {},
   "outputs": [],
   "source": [
    "from scipy import special"
   ]
  },
  {
   "cell_type": "markdown",
   "metadata": {},
   "source": [
    "***高级的通用函数特性***"
   ]
  },
  {
   "cell_type": "markdown",
   "metadata": {},
   "source": [
    "在进行大量运算时, 有时需要一个存放运行结果的数组.所有的通用函数都可以通过OUT参数来指定计算结果的村放位置."
   ]
  },
  {
   "cell_type": "code",
   "execution_count": 54,
   "metadata": {},
   "outputs": [
    {
     "name": "stdout",
     "output_type": "stream",
     "text": [
      "[0 1 2 3 4]\n",
      "[0.         0.5        0.66666667 0.75       0.8       ]\n"
     ]
    }
   ],
   "source": [
    "x = np.arange(5)\n",
    "y = np.empty(5)\n",
    "print(x)\n",
    "print(y)     # 数组y的数值不重要"
   ]
  },
  {
   "cell_type": "code",
   "execution_count": 56,
   "metadata": {},
   "outputs": [
    {
     "name": "stdout",
     "output_type": "stream",
     "text": [
      "[ 0. 10. 20. 30. 40.]\n"
     ]
    }
   ],
   "source": [
    "np.multiply(x,10,out=y)    # 数组x的每个值乘以10\n",
    "print(y)"
   ]
  },
  {
   "cell_type": "markdown",
   "metadata": {},
   "source": [
    "将运算结果写入指定数组的每个一个元素的位置"
   ]
  },
  {
   "cell_type": "code",
   "execution_count": 58,
   "metadata": {},
   "outputs": [
    {
     "name": "stdout",
     "output_type": "stream",
     "text": [
      "[0 1 2 3 4]\n",
      "[0. 0. 0. 0. 0. 0. 0. 0. 0. 0.]\n",
      "[ 1.  0.  2.  0.  4.  0.  8.  0. 16.  0.]\n"
     ]
    }
   ],
   "source": [
    "y = np.zeros(10)\n",
    "print(x)\n",
    "print(y)\n",
    "np.power(2,x,out=y[::2])\n",
    "print(y)"
   ]
  },
  {
   "cell_type": "markdown",
   "metadata": {},
   "source": [
    "***聚合*** : 函数的reduce方法"
   ]
  },
  {
   "cell_type": "code",
   "execution_count": 63,
   "metadata": {
    "scrolled": true
   },
   "outputs": [
    {
     "name": "stdout",
     "output_type": "stream",
     "text": [
      "[1 2 3 4 5]\n",
      "15\n",
      "15\n",
      "120\n",
      "[ 1  3  6 10 15]\n",
      "[  1   2   6  24 120]\n"
     ]
    }
   ],
   "source": [
    "x = np.arange(1,6)\n",
    "print(x)\n",
    "print(np.add.reduce(x))   # 意思是拆成一个个元素,然后相加\n",
    "print(sum(x))\n",
    "print(np.multiply.reduce(x))    # 拆分成一个个元素然后相乘\n",
    "print(np.add.accumulate(x))     # 显示每一步骤的计算结果\n",
    "print(np.multiply.accumulate(x))"
   ]
  },
  {
   "cell_type": "markdown",
   "metadata": {},
   "source": [
    "***外积*** : \n",
    "通用函数都可以用outer()方法获得两个不同输入数组所有元素对的函数运算结果"
   ]
  },
  {
   "cell_type": "code",
   "execution_count": 65,
   "metadata": {
    "scrolled": false
   },
   "outputs": [
    {
     "name": "stdout",
     "output_type": "stream",
     "text": [
      "[1 2 3 4 5]\n"
     ]
    },
    {
     "data": {
      "text/plain": [
       "array([[ 1,  2,  3,  4,  5],\n",
       "       [ 2,  4,  6,  8, 10],\n",
       "       [ 3,  6,  9, 12, 15],\n",
       "       [ 4,  8, 12, 16, 20],\n",
       "       [ 5, 10, 15, 20, 25]])"
      ]
     },
     "execution_count": 65,
     "metadata": {},
     "output_type": "execute_result"
    }
   ],
   "source": [
    "x = np.arange(1,6)\n",
    "print(x)\n",
    "np.multiply.outer(x,x)"
   ]
  },
  {
   "cell_type": "markdown",
   "metadata": {},
   "source": [
    "### 2.3.5 通用函数更多信息\n",
    "[NumPy]http://www.numpy.ort  或者[SciPy]http://www.scipy.org"
   ]
  },
  {
   "cell_type": "markdown",
   "metadata": {},
   "source": [
    "## 2.4 聚合 : 最大值, 最小值和其他值"
   ]
  },
  {
   "cell_type": "markdown",
   "metadata": {},
   "source": [
    "### 2.4.1数组求和"
   ]
  },
  {
   "cell_type": "markdown",
   "metadata": {},
   "source": [
    "Python本身内置的sum函数"
   ]
  },
  {
   "cell_type": "code",
   "execution_count": 69,
   "metadata": {
    "scrolled": true
   },
   "outputs": [
    {
     "name": "stdout",
     "output_type": "stream",
     "text": [
      "[0.42385505 0.60639321 0.0191932  0.30157482 0.66017354 0.29007761\n",
      " 0.61801543 0.4287687  0.13547406 0.29828233]\n",
      "3.781807942496205\n",
      "3.781807942496205\n"
     ]
    }
   ],
   "source": [
    "import numpy as np\n",
    "l = np.random.random(10)    # 随机生成100个0-1的数\n",
    "print(l)\n",
    "print(sum(l))\n",
    "print(np.sum(l))"
   ]
  },
  {
   "cell_type": "markdown",
   "metadata": {},
   "source": [
    "sum函数和np.sum函数并不相同, 他们的可选参数有不同的含义. "
   ]
  },
  {
   "cell_type": "markdown",
   "metadata": {},
   "source": [
    "### 2.4.2 最大值和最小值\n",
    "    -sum()\n",
    "    -min()"
   ]
  },
  {
   "cell_type": "markdown",
   "metadata": {},
   "source": [
    "***需要按照某一行或者列来聚合***"
   ]
  },
  {
   "cell_type": "code",
   "execution_count": 72,
   "metadata": {
    "scrolled": true
   },
   "outputs": [
    {
     "name": "stdout",
     "output_type": "stream",
     "text": [
      "[[0.56996491 0.59087276 0.57432525 0.65320082]\n",
      " [0.65210327 0.43141844 0.8965466  0.36756187]\n",
      " [0.43586493 0.89192336 0.80619399 0.70388858]]\n"
     ]
    }
   ],
   "source": [
    "x = np.random.random((3,4))    # 必须是双括号,一个括号会报错\n",
    "print(x)"
   ]
  },
  {
   "cell_type": "code",
   "execution_count": 82,
   "metadata": {
    "scrolled": true
   },
   "outputs": [
    {
     "name": "stdout",
     "output_type": "stream",
     "text": [
      "所有元素的和是: 7.573864764858524\n",
      "所有元素的和是: [1.65793311 1.91421455 2.27706583 1.72465127]\n",
      "所有列的和是: [1.65793311 1.91421455 2.27706583 1.72465127]\n",
      "所有行的和是: [2.38836374 2.34763017 2.83787085]\n",
      "每列的最小值是: [0.43586493 0.43141844 0.57432525 0.36756187]\n",
      "每行的最大值是: [0.65320082 0.8965466  0.89192336]\n"
     ]
    }
   ],
   "source": [
    "print('所有元素的和是:',x.sum())\n",
    "print(\"所有元素的和是:\",sum(x))    # 对每一列求和 ,属于Python的函数\n",
    "print('所有列的和是:',x.sum(axis=0))    # axis=0 表示对列进行求和\n",
    "print('所有行的和是:',x.sum(axis=1))   # 对行进行求和\n",
    "print(\"每列的最小值是:\",x.min(axis=0))   # 求每一列的最小值\n",
    "print('每行的最大值是:',x.max(axis=1))"
   ]
  },
  {
   "cell_type": "markdown",
   "metadata": {},
   "source": [
    "***axis关键字指定的是数组将会被折叠的维度, 而不是将要返回的维度.因此指定axis=0意味着第一个轴将要被折叠--对于二维数组,这意味着每一列的值都将被聚合.***"
   ]
  },
  {
   "cell_type": "markdown",
   "metadata": {},
   "source": [
    "***其他聚合函数***\n",
    "    -大多数聚合函数都有对NaN值得安全处理策略(NaN-safe), 即计算时忽略所有的缺失值.\n",
    "    -NumPy可用聚合函数清单"
   ]
  },
  {
   "cell_type": "markdown",
   "metadata": {},
   "source": [
    "| 函数名称 | NaN安全版本 | 描述 |\n",
    "| --------- | -- | -- |\n",
    "| np.sum  | np.nansum | 计算元素的和\n",
    "| np.prod | np.nanprod | 计算元素的积\n",
    "| np.mean | np.nanmean | 平均值\n",
    "| np.std | np.nanstd | 标准差\n",
    "| np.var | np.nanvar | 方差\n",
    "| np.min | np.nanmin | 最小值\n",
    "| np.max | np.nanmax | 最大值\n",
    "| np.argmin | np.nanargmin | 找出最小值的索引\n",
    "| np.argmax | np.nanargmax | 找出最大值的索引\n",
    "| np.median | np.nanmedian | 中位数\n",
    "| np.any | N/A | 验证任何一个元素是否为真\n",
    "| np.all | N/A | 验证所有元素是否为真"
   ]
  },
  {
   "cell_type": "markdown",
   "metadata": {},
   "source": [
    "### 2.4.3 示例:美国总统的身高\n",
    "用Pandas包来读取身高数据"
   ]
  },
  {
   "cell_type": "code",
   "execution_count": 95,
   "metadata": {},
   "outputs": [
    {
     "name": "stdout",
     "output_type": "stream",
     "text": [
      "[189 170 189 163 183 171 185 168 173 183 173 173 175 178 183 193 178 173\n",
      " 174 183 183 168 170 178 182 180 183 178 182 188 175 179 183 193 182 183\n",
      " 177 185 188 188 182 185]\n"
     ]
    }
   ],
   "source": [
    "import numpy as np\n",
    "import pandas as pd\n",
    "path = open('E:/Python/Python数据科学手册英文版/notebooks/data/president_heights.csv')\n",
    "data = pd.read_csv(path)\n",
    "heights = np.array(data[\"height(cm)\"])\n",
    "print(heights)\n",
    "# 直接用pd.read_csv('E:/Python/Python数据科学手册英文版/notebooks/data/president_heights.csv') 因路径中有中文 ,会报错"
   ]
  },
  {
   "cell_type": "code",
   "execution_count": 110,
   "metadata": {},
   "outputs": [
    {
     "name": "stdout",
     "output_type": "stream",
     "text": [
      "总统们的平均身高是: 179.73809523809524\n",
      "179.73809523809524\n",
      "身高的标准差是: 6.931843442745892\n",
      "6.931843442745892\n",
      "身高的方差是: 48.05045351473922\n",
      "48.05045351473922\n",
      "身高的最小值是: 163\n",
      "163\n",
      "身高的最大值是: 193\n",
      "193\n",
      "分位数是: 182.0\n",
      "25或75分位数是: 174.25\n"
     ]
    }
   ],
   "source": [
    "print('总统们的平均身高是:',heights.mean())\n",
    "print(np.mean(heights))\n",
    "\n",
    "print('身高的标准差是:',heights.std())\n",
    "print(np.std(heights))\n",
    "\n",
    "print('身高的方差是:',heights.var())\n",
    "print(np.var(heights))\n",
    "\n",
    "print('身高的最小值是:',heights.min())\n",
    "print(np.min(heights))\n",
    "\n",
    "print('身高的最大值是:',heights.max())\n",
    "print(np.max(heights))\n",
    "\n",
    "#   print(\"分位数是:\",heights.median())   这个表示方法报错\n",
    "print('分位数是:',np.median(heights))\n",
    "\n",
    "# print('25或75分位数是:',heights.percentile(25))    报错\n",
    "print('25或75分位数是:',np.percentile(heights,25))\n"
   ]
  },
  {
   "cell_type": "markdown",
   "metadata": {},
   "source": [
    "***用matplotlib绘制图***"
   ]
  },
  {
   "cell_type": "code",
   "execution_count": 116,
   "metadata": {
    "scrolled": true
   },
   "outputs": [
    {
     "data": {
      "text/plain": [
       "Text(0,0.5,'number')"
      ]
     },
     "execution_count": 116,
     "metadata": {},
     "output_type": "execute_result"
    },
    {
     "data": {
      "image/png": "[encoded data removed]",
      "text/plain": [
       "<Figure size 432x288 with 1 Axes>"
      ]
     },
     "metadata": {},
     "output_type": "display_data"
    }
   ],
   "source": [
    "%matplotlib inline                    # 这句话什么含义\n",
    "import matplotlib.pyplot as plt\n",
    "import seaborn;seaborn.set()         # 设置绘制风格\n",
    "plt.hist(heights)\n",
    "plt.title('Python中图表')            # 中文字符出现乱码 \n",
    "plt.xlabel('height(cm)')\n",
    "plt.ylabel('number')                # number是个什么"
   ]
  },
  {
   "cell_type": "markdown",
   "metadata": {},
   "source": [
    "## 2.5 数组的计算:广播\n",
    "用于不同大小的数组的二元通用函数(加,减,乘等)的一组规则."
   ]
  },
  {
   "cell_type": "markdown",
   "metadata": {},
   "source": [
    "前面提到:对于同样大小的数组, 二元运算符是对应元素相加    # 啥叫二元运算符"
   ]
  },
  {
   "cell_type": "code",
   "execution_count": 117,
   "metadata": {},
   "outputs": [
    {
     "data": {
      "text/plain": [
       "array([3, 6, 9])"
      ]
     },
     "execution_count": 117,
     "metadata": {},
     "output_type": "execute_result"
    }
   ],
   "source": [
    "import numpy as np\n",
    "a = np.array([1,2,3])\n",
    "b = np.array([2,4,6])\n",
    "a + b"
   ]
  },
  {
   "cell_type": "markdown",
   "metadata": {},
   "source": [
    "广播允许二元运算符用于不同大小的数组. 可以简单的将一个标量(0维度数组)和一个数组相加"
   ]
  },
  {
   "cell_type": "code",
   "execution_count": 120,
   "metadata": {
    "scrolled": true
   },
   "outputs": [
    {
     "name": "stdout",
     "output_type": "stream",
     "text": [
      "[1 2 3]\n"
     ]
    },
    {
     "data": {
      "text/plain": [
       "array([6, 7, 8])"
      ]
     },
     "execution_count": 120,
     "metadata": {},
     "output_type": "execute_result"
    }
   ],
   "source": [
    "# 一个一维数组和一个数字相加\n",
    "print(a)\n",
    "a + 5"
   ]
  },
  {
   "cell_type": "code",
   "execution_count": 131,
   "metadata": {},
   "outputs": [
    {
     "name": "stdout",
     "output_type": "stream",
     "text": [
      "[1 2 3]\n",
      "********************\n",
      "[[1. 1. 1.]\n",
      " [1. 1. 1.]\n",
      " [1. 1. 1.]]\n",
      "********************\n",
      "[[2. 3. 4.]\n",
      " [2. 3. 4.]\n",
      " [2. 3. 4.]]\n"
     ]
    }
   ],
   "source": [
    "x1 = np.ones((3,3))     # (3,3)改成(3,6)出错,改成(6,3)不报错\n",
    "print(a)\n",
    "print('*'*20)\n",
    "print(x1)\n",
    "print('*'*20)\n",
    "print(a + x1)"
   ]
  },
  {
   "cell_type": "markdown",
   "metadata": {},
   "source": [
    "### 2.5.2 广播的规则\n",
    "NumPy的广播有严格的规则, 为了解决两个数组的操作"
   ]
  },
  {
   "cell_type": "markdown",
   "metadata": {},
   "source": [
    "***规则1: 如果两个数组维度上不一样,那么小维度数组的形状会在最左边补1. ***"
   ]
  },
  {
   "cell_type": "markdown",
   "metadata": {},
   "source": [
    "***规则2:如果两个数组的形状在任何一个维度上都不匹配, 那么数组的形状会沿着维度为1的维度扩展以匹配另外一个数组的维度.***"
   ]
  },
  {
   "cell_type": "markdown",
   "metadata": {},
   "source": [
    "***规则3:如果两个数组的形状在任何一个维度上都不匹配并且没有任何一个维度等于1, 那么会应发异常. ***"
   ]
  },
  {
   "cell_type": "markdown",
   "metadata": {},
   "source": [
    "### 如果数组在某个维度上维数为1, 就在此维度上扩充到和另一个数组相同的维数."
   ]
  },
  {
   "cell_type": "code",
   "execution_count": 11,
   "metadata": {
    "scrolled": false
   },
   "outputs": [
    {
     "name": "stdout",
     "output_type": "stream",
     "text": [
      "[[1. 1. 1.]\n",
      " [1. 1. 1.]] (2, 3)\n",
      "[0 1 2] (3,)\n"
     ]
    }
   ],
   "source": [
    "import numpy as np\n",
    "x1 = np.ones((2,3))\n",
    "x2 = np.arange(3)\n",
    "print(x1,x1.shape)\n",
    "print(x2,x2.shape)\n"
   ]
  },
  {
   "cell_type": "code",
   "execution_count": 13,
   "metadata": {},
   "outputs": [
    {
     "data": {
      "text/plain": [
       "array([[0, 1, 2],\n",
       "       [1, 2, 3],\n",
       "       [2, 3, 4]])"
      ]
     },
     "execution_count": 13,
     "metadata": {},
     "output_type": "execute_result"
    }
   ],
   "source": [
    "a = np.arange(3).reshape((3,1))\n",
    "b = np.arange(3)\n",
    "a + b"
   ]
  },
  {
   "cell_type": "markdown",
   "metadata": {},
   "source": [
    "### 2.5.3 广播的实际应用"
   ]
  },
  {
   "cell_type": "markdown",
   "metadata": {},
   "source": [
    "***数组的归一化*** : 标准化\n",
    "    - 如果有10个观测值, 每个观测值有3个数据, 则用一个10*3的数组存放这组数据. "
   ]
  },
  {
   "cell_type": "code",
   "execution_count": 36,
   "metadata": {
    "scrolled": true
   },
   "outputs": [
    {
     "data": {
      "text/plain": [
       "array([[0.28753502, 0.17475433, 0.94881717],\n",
       "       [0.52740059, 0.27324104, 0.59244628],\n",
       "       [0.92542544, 0.17095336, 0.62074184],\n",
       "       [0.06765705, 0.53349631, 0.87524914],\n",
       "       [0.89227924, 0.08936437, 0.29611186],\n",
       "       [0.47721616, 0.06912199, 0.73611527],\n",
       "       [0.93768614, 0.63599511, 0.75935363],\n",
       "       [0.36530949, 0.24510895, 0.26807146],\n",
       "       [0.68832481, 0.58183014, 0.42614185],\n",
       "       [0.50222069, 0.88581832, 0.42317545]])"
      ]
     },
     "execution_count": 36,
     "metadata": {},
     "output_type": "execute_result"
    }
   ],
   "source": [
    "x = np.random.random((10,3))\n",
    "x"
   ]
  },
  {
   "cell_type": "code",
   "execution_count": 38,
   "metadata": {
    "scrolled": true
   },
   "outputs": [
    {
     "name": "stdout",
     "output_type": "stream",
     "text": [
      "[0.56710546 0.36596839 0.59462239]\n"
     ]
    }
   ],
   "source": [
    "x_mean = x.mean(0)   # 沿着第1维度求均数, 第1维度是列(纵向)\n",
    "print(x_mean)"
   ]
  },
  {
   "cell_type": "code",
   "execution_count": 39,
   "metadata": {
    "scrolled": false
   },
   "outputs": [
    {
     "data": {
      "text/plain": [
       "array([[-0.27957044, -0.19121406,  0.35419478],\n",
       "       [-0.03970487, -0.09272735, -0.00217612],\n",
       "       [ 0.35831998, -0.19501503,  0.02611944],\n",
       "       [-0.49944842,  0.16752792,  0.28062674],\n",
       "       [ 0.32517378, -0.27660402, -0.29851053],\n",
       "       [-0.0898893 , -0.2968464 ,  0.14149287],\n",
       "       [ 0.37058067,  0.27002672,  0.16473124],\n",
       "       [-0.20179597, -0.12085944, -0.32655094],\n",
       "       [ 0.12121934,  0.21586175, -0.16848055],\n",
       "       [-0.06488477,  0.51984993, -0.17144695]])"
      ]
     },
     "execution_count": 39,
     "metadata": {},
     "output_type": "execute_result"
    }
   ],
   "source": [
    "x1 = x - x_mean\n",
    "x1"
   ]
  },
  {
   "cell_type": "code",
   "execution_count": 32,
   "metadata": {},
   "outputs": [
    {
     "data": {
      "text/plain": [
       "array([ 5.55111512e-17, -1.33226763e-16,  1.11022302e-17])"
      ]
     },
     "execution_count": 32,
     "metadata": {},
     "output_type": "execute_result"
    }
   ],
   "source": [
    "x1.mean(0)"
   ]
  },
  {
   "cell_type": "code",
   "execution_count": 41,
   "metadata": {},
   "outputs": [
    {
     "data": {
      "text/plain": [
       "array([-6.66133815e-17, -3.33066907e-17, -3.33066907e-17])"
      ]
     },
     "execution_count": 41,
     "metadata": {},
     "output_type": "execute_result"
    }
   ],
   "source": [
    "x = np.random.random((10,3))\n",
    "x_mean = x.mean(0)       # 数组求平均数, 需要指定是哪个维度\n",
    "x1 = x - x_mean\n",
    "x1.mean(0)"
   ]
  },
  {
   "cell_type": "markdown",
   "metadata": {},
   "source": [
    "***画一个二维函数, 4.6介绍***"
   ]
  },
  {
   "cell_type": "markdown",
   "metadata": {},
   "source": [
    "## 2.6 比较,掩码和布尔逻辑\n",
    "比如 : 统计数组中有多少值大于某一个给定值, 或者删除所有超出某些限制的一层点."
   ]
  },
  {
   "cell_type": "code",
   "execution_count": 46,
   "metadata": {},
   "outputs": [
    {
     "name": "stdout",
     "output_type": "stream",
     "text": [
      "<class 'numpy.ndarray'>\n"
     ]
    },
    {
     "data": {
      "text/plain": [
       "(365,)"
      ]
     },
     "execution_count": 46,
     "metadata": {},
     "output_type": "execute_result"
    }
   ],
   "source": [
    "import numpy as np\n",
    "import pandas as pd\n",
    "#利用pandas提取降雨量数据\n",
    "path = open(r'E:\\Python\\Python数据科学手册英文版\\notebooks\\data\\Seattle2014.csv')    # 要么用 / 要么用\\\\ 要么在前面加r\n",
    "rainfall = pd.read_csv(path)['PRCP'].values       # 用的是pd,所以类型是数组\n",
    "print(type(rainfall))\n",
    "jiangyul = rainfall / 254\n",
    "jiangyul.shape                    # 365行还是 365列呢 ?"
   ]
  },
  {
   "cell_type": "markdown",
   "metadata": {},
   "source": [
    "用Matplotlib生成下雨天的直方图"
   ]
  },
  {
   "cell_type": "code",
   "execution_count": 48,
   "metadata": {},
   "outputs": [],
   "source": [
    "%matplotlib inline\n",
    "import matplotlib.pyplot as plt\n",
    "import seaborn; seaborn.set()         # 这三句话的含义在第4章介绍"
   ]
  },
  {
   "cell_type": "code",
   "execution_count": 49,
   "metadata": {
    "scrolled": true
   },
   "outputs": [
    {
     "data": {
      "text/plain": [
       "(array([245.,  14.,  13.,  17.,   8.,   6.,   5.,   6.,   4.,   3.,   7.,\n",
       "          6.,   3.,   3.,   3.,   4.,   4.,   2.,   4.,   0.,   0.,   1.,\n",
       "          1.,   1.,   0.,   0.,   0.,   2.,   1.,   1.,   0.,   0.,   0.,\n",
       "          0.,   0.,   0.,   0.,   0.,   0.,   1.]),\n",
       " array([0.        , 0.04596457, 0.09192913, 0.1378937 , 0.18385827,\n",
       "        0.22982283, 0.2757874 , 0.32175197, 0.36771654, 0.4136811 ,\n",
       "        0.45964567, 0.50561024, 0.5515748 , 0.59753937, 0.64350394,\n",
       "        0.6894685 , 0.73543307, 0.78139764, 0.8273622 , 0.87332677,\n",
       "        0.91929134, 0.96525591, 1.01122047, 1.05718504, 1.10314961,\n",
       "        1.14911417, 1.19507874, 1.24104331, 1.28700787, 1.33297244,\n",
       "        1.37893701, 1.42490157, 1.47086614, 1.51683071, 1.56279528,\n",
       "        1.60875984, 1.65472441, 1.70068898, 1.74665354, 1.79261811,\n",
       "        1.83858268]),\n",
       " <a list of 40 Patch objects>)"
      ]
     },
     "execution_count": 49,
     "metadata": {},
     "output_type": "execute_result"
    },
    {
     "data": {
      "image/png": "[encoded data removed]",
      "text/plain": [
       "<Figure size 432x288 with 1 Axes>"
      ]
     },
     "metadata": {},
     "output_type": "display_data"
    }
   ],
   "source": [
    "plt.hist(jiangyul,40)         # 第4章解释"
   ]
  },
  {
   "cell_type": "markdown",
   "metadata": {},
   "source": [
    "### 2.6.2 和通用函数类似的比较操作\n",
    "之前介绍了 + - * / . 这里介绍其他几种运算符 == != < > <= >="
   ]
  },
  {
   "cell_type": "code",
   "execution_count": 50,
   "metadata": {},
   "outputs": [
    {
     "data": {
      "text/plain": [
       "array([False, False, False,  True,  True])"
      ]
     },
     "execution_count": 50,
     "metadata": {},
     "output_type": "execute_result"
    }
   ],
   "source": [
    "x = np.array([1,2,3,4,5])\n",
    "x > 3"
   ]
  },
  {
   "cell_type": "code",
   "execution_count": 51,
   "metadata": {},
   "outputs": [
    {
     "data": {
      "text/plain": [
       "array([ True,  True,  True, False, False])"
      ]
     },
     "execution_count": 51,
     "metadata": {},
     "output_type": "execute_result"
    }
   ],
   "source": [
    "x <= 3"
   ]
  },
  {
   "cell_type": "markdown",
   "metadata": {},
   "source": [
    "| 运算符 | 对应的通用函数 |\n",
    "| -- | -- |\n",
    "| == | np.equal |\n",
    "| != | np.not_equal |\n",
    "| < | np.less\n",
    "| <= | np.less_equal\n",
    "| > | np.greater\n",
    "| >= | np.greater_equal\n"
   ]
  },
  {
   "cell_type": "markdown",
   "metadata": {},
   "source": [
    "和算术运算符一样, 这些比较运算通用函数也可以用于任意形状,大小的数组. "
   ]
  },
  {
   "cell_type": "code",
   "execution_count": 54,
   "metadata": {},
   "outputs": [
    {
     "data": {
      "text/plain": [
       "array([[5, 0, 3, 3],\n",
       "       [7, 9, 3, 5],\n",
       "       [2, 4, 7, 6]])"
      ]
     },
     "execution_count": 54,
     "metadata": {},
     "output_type": "execute_result"
    }
   ],
   "source": [
    "rng = np.random.RandomState(0)     # 一种随机数模式 ,以后再了解. 得到的数组会和书本上一样\n",
    "x = rng.randint(10,size=(3,4))     # 生成一个3*4的数组,数值都在10以内\n",
    "x"
   ]
  },
  {
   "cell_type": "code",
   "execution_count": 55,
   "metadata": {},
   "outputs": [
    {
     "data": {
      "text/plain": [
       "array([[ True,  True,  True,  True],\n",
       "       [False, False,  True,  True],\n",
       "       [ True,  True, False, False]])"
      ]
     },
     "execution_count": 55,
     "metadata": {},
     "output_type": "execute_result"
    }
   ],
   "source": [
    "x < 6"
   ]
  },
  {
   "cell_type": "markdown",
   "metadata": {},
   "source": [
    "### 2.6.3 操作布尔数组"
   ]
  },
  {
   "cell_type": "code",
   "execution_count": 56,
   "metadata": {},
   "outputs": [
    {
     "data": {
      "text/plain": [
       "8"
      ]
     },
     "execution_count": 56,
     "metadata": {},
     "output_type": "execute_result"
    }
   ],
   "source": [
    "np.count_nonzero(x<6)      # np的函数中 cou三个字母开头的只有 count_nonzero(). 用Tab键补齐函数名称 . 此处 x<6 可以看作是一个数组"
   ]
  },
  {
   "cell_type": "code",
   "execution_count": 57,
   "metadata": {},
   "outputs": [
    {
     "data": {
      "text/plain": [
       "8"
      ]
     },
     "execution_count": 57,
     "metadata": {},
     "output_type": "execute_result"
    }
   ],
   "source": [
    "np.sum(x<6)     # x<6 的值是True和False, 和count计数结果一样"
   ]
  },
  {
   "cell_type": "code",
   "execution_count": 58,
   "metadata": {},
   "outputs": [
    {
     "data": {
      "text/plain": [
       "array([4, 2, 2])"
      ]
     },
     "execution_count": 58,
     "metadata": {},
     "output_type": "execute_result"
    }
   ],
   "source": [
    "np.sum(x<6,axis=1)  # 每行中小于6的个数. axis=1是行,axis=0是列"
   ]
  },
  {
   "cell_type": "code",
   "execution_count": 60,
   "metadata": {},
   "outputs": [
    {
     "data": {
      "text/plain": [
       "array([ True, False,  True])"
      ]
     },
     "execution_count": 60,
     "metadata": {},
     "output_type": "execute_result"
    }
   ],
   "source": [
    "np.any(x<8)   #是否有至少一个值小于8\n",
    "np.all(x<10)  # 是否所有值都小于0\n",
    "np.all(x==6)  #是否所有值都等于6\n",
    "np.all(x<8,axis=1)  #是否每行的所有值都小于8"
   ]
  },
  {
   "cell_type": "markdown",
   "metadata": {},
   "source": [
    "逐位逻辑运算符(bitwise logic operator)  & | ^ ~  . 以后再了解"
   ]
  },
  {
   "cell_type": "markdown",
   "metadata": {},
   "source": [
    "| 运算符 | 对应通用函数 |\n",
    "| -- | -- |\n",
    "| & | np.bitwise_and |\n",
    "| 丨| np.bitwise_or |\n",
    "| ^ | np.bitwise_xor |\n",
    "| ~ | np.bitwise_not |"
   ]
  },
  {
   "cell_type": "markdown",
   "metadata": {},
   "source": [
    "### 2.6.4 将布尔数组做为掩码\n",
    "用布尔函数作为掩码,通过该掩码选择数据的子数据集"
   ]
  },
  {
   "cell_type": "code",
   "execution_count": 61,
   "metadata": {},
   "outputs": [
    {
     "data": {
      "text/plain": [
       "array([[5, 0, 3, 3],\n",
       "       [7, 9, 3, 5],\n",
       "       [2, 4, 7, 6]])"
      ]
     },
     "execution_count": 61,
     "metadata": {},
     "output_type": "execute_result"
    }
   ],
   "source": [
    "x"
   ]
  },
  {
   "cell_type": "code",
   "execution_count": 62,
   "metadata": {},
   "outputs": [
    {
     "data": {
      "text/plain": [
       "array([[False,  True,  True,  True],\n",
       "       [False, False,  True, False],\n",
       "       [ True,  True, False, False]])"
      ]
     },
     "execution_count": 62,
     "metadata": {},
     "output_type": "execute_result"
    }
   ],
   "source": [
    "x < 5"
   ]
  },
  {
   "cell_type": "code",
   "execution_count": 63,
   "metadata": {},
   "outputs": [
    {
     "data": {
      "text/plain": [
       "array([0, 3, 3, 3, 2, 4])"
      ]
     },
     "execution_count": 63,
     "metadata": {},
     "output_type": "execute_result"
    }
   ],
   "source": [
    "x[x<5]"
   ]
  },
  {
   "cell_type": "markdown",
   "metadata": {},
   "source": [
    "***关键字and / or 与逻辑操作运算符 & / 丨的选择***.\n",
    "and和or判断***整个对象***是真或假, 而 & 和 丨是指***每个对象中的比特位***.??\n",
    "    - 对于NumPy布尔数组, 后者常用."
   ]
  },
  {
   "cell_type": "markdown",
   "metadata": {},
   "source": [
    "## 2.7 花哨的索引\n",
    "传递的索引是数组,而不是单个标量"
   ]
  },
  {
   "cell_type": "markdown",
   "metadata": {},
   "source": [
    "### 2.7.1 探索花哨的索引\n",
    "传递一个索引数组来一次性获得多个数组元素. "
   ]
  },
  {
   "cell_type": "code",
   "execution_count": 2,
   "metadata": {},
   "outputs": [
    {
     "name": "stdout",
     "output_type": "stream",
     "text": [
      "[51 92 14 71 60 20 82 86 74 74]\n"
     ]
    }
   ],
   "source": [
    "import numpy as np\n",
    "rand = np.random.RandomState(42)\n",
    "x = rand.randint(100,size=10)\n",
    "print(x)"
   ]
  },
  {
   "cell_type": "code",
   "execution_count": 66,
   "metadata": {},
   "outputs": [
    {
     "data": {
      "text/plain": [
       "[71, 86, 74]"
      ]
     },
     "execution_count": 66,
     "metadata": {},
     "output_type": "execute_result"
    }
   ],
   "source": [
    "# 根据之前的内容, 获取三个元素的方法\n",
    "[x[3], x[7], x[9]]"
   ]
  },
  {
   "cell_type": "code",
   "execution_count": 67,
   "metadata": {},
   "outputs": [
    {
     "data": {
      "text/plain": [
       "array([71, 86, 74])"
      ]
     },
     "execution_count": 67,
     "metadata": {},
     "output_type": "execute_result"
    }
   ],
   "source": [
    "# 根据索引数组\n",
    "ind = [3,7,9]\n",
    "x[ind]"
   ]
  },
  {
   "cell_type": "markdown",
   "metadata": {},
   "source": [
    "***利用花哨索引,结果的形状与索引数组的形状一直, 而不是与被索引数组形状一直.***"
   ]
  },
  {
   "cell_type": "code",
   "execution_count": 69,
   "metadata": {},
   "outputs": [
    {
     "data": {
      "text/plain": [
       "array([[71, 86],\n",
       "       [60, 20]])"
      ]
     },
     "execution_count": 69,
     "metadata": {},
     "output_type": "execute_result"
    }
   ],
   "source": [
    "ind = np.array([[3,7],\n",
    "              [4,5]])\n",
    "x[ind]"
   ]
  },
  {
   "cell_type": "code",
   "execution_count": 4,
   "metadata": {
    "scrolled": true
   },
   "outputs": [
    {
     "data": {
      "text/plain": [
       "array([[ 0,  1,  2,  3],\n",
       "       [ 4,  5,  6,  7],\n",
       "       [ 8,  9, 10, 11]])"
      ]
     },
     "execution_count": 4,
     "metadata": {},
     "output_type": "execute_result"
    }
   ],
   "source": [
    "x = np.arange(12).reshape((3,4))\n",
    "x"
   ]
  },
  {
   "cell_type": "code",
   "execution_count": 5,
   "metadata": {},
   "outputs": [
    {
     "data": {
      "text/plain": [
       "array([ 2,  5, 11])"
      ]
     },
     "execution_count": 5,
     "metadata": {},
     "output_type": "execute_result"
    }
   ],
   "source": [
    "row = np.array([0,1,2])\n",
    "col = np.array([2,1,3])\n",
    "x[row,col]    # 第1行,第3列; 第2行,第2列; 第3行,第4列."
   ]
  },
  {
   "cell_type": "markdown",
   "metadata": {},
   "source": [
    "### 2.7.2 组合索引\n",
    "花哨索引和其他索引组合"
   ]
  },
  {
   "cell_type": "code",
   "execution_count": 6,
   "metadata": {},
   "outputs": [
    {
     "data": {
      "text/plain": [
       "array([[ 0,  1,  2,  3],\n",
       "       [ 4,  5,  6,  7],\n",
       "       [ 8,  9, 10, 11]])"
      ]
     },
     "execution_count": 6,
     "metadata": {},
     "output_type": "execute_result"
    }
   ],
   "source": [
    "x"
   ]
  },
  {
   "cell_type": "markdown",
   "metadata": {},
   "source": [
    "将花哨索引和简单索引组合"
   ]
  },
  {
   "cell_type": "code",
   "execution_count": 8,
   "metadata": {},
   "outputs": [
    {
     "data": {
      "text/plain": [
       "array([10,  8,  9])"
      ]
     },
     "execution_count": 8,
     "metadata": {},
     "output_type": "execute_result"
    }
   ],
   "source": [
    "x[2,[2,0,1]]  # 第3行 ,第3列 1列和2列"
   ]
  },
  {
   "cell_type": "code",
   "execution_count": 9,
   "metadata": {},
   "outputs": [
    {
     "data": {
      "text/plain": [
       "array([[ 6,  4,  5],\n",
       "       [10,  8,  9]])"
      ]
     },
     "execution_count": 9,
     "metadata": {},
     "output_type": "execute_result"
    }
   ],
   "source": [
    "x[1:,[2,0,1]]  #第2行以后的所有行,列是第3,1 2 列"
   ]
  },
  {
   "cell_type": "markdown",
   "metadata": {},
   "source": [
    "### 2.7.3 示例: 选择随机点"
   ]
  },
  {
   "cell_type": "markdown",
   "metadata": {},
   "source": [
    "花哨索引一个常见用途是从一个矩阵中选择子集.\n",
    "    - 例如N*D的矩阵,表示在D个维度的N个点"
   ]
  },
  {
   "cell_type": "code",
   "execution_count": 12,
   "metadata": {},
   "outputs": [
    {
     "data": {
      "text/plain": [
       "(100, 2)"
      ]
     },
     "execution_count": 12,
     "metadata": {},
     "output_type": "execute_result"
    }
   ],
   "source": [
    "mean = [0,0]\n",
    "cov = [[1,2],\n",
    "      [2,5]]\n",
    "x = rand.multivariate_normal(mean,cov,100)   # 不知道啥意思\n",
    "x.shape"
   ]
  },
  {
   "cell_type": "code",
   "execution_count": 14,
   "metadata": {},
   "outputs": [
    {
     "data": {
      "text/plain": [
       "<matplotlib.collections.PathCollection at 0x7cea7f6f28>"
      ]
     },
     "execution_count": 14,
     "metadata": {},
     "output_type": "execute_result"
    },
    {
     "data": {
      "image/png": "[encoded data removed]",
      "text/plain": [
       "<Figure size 432x288 with 1 Axes>"
      ]
     },
     "metadata": {},
     "output_type": "display_data"
    }
   ],
   "source": [
    "# 利用第4章内容,做可视化图\n",
    "%matplotlib inline\n",
    "import matplotlib.pyplot as plt\n",
    "import seaborn; seaborn.set()    # 都写了好几遍了\n",
    "plt.scatter(x[:,0],x[:,1])"
   ]
  },
  {
   "cell_type": "markdown",
   "metadata": {},
   "source": [
    "***正太分布点***"
   ]
  },
  {
   "cell_type": "code",
   "execution_count": 22,
   "metadata": {},
   "outputs": [
    {
     "data": {
      "text/plain": [
       "array([96, 88, 69, 47, 14, 46, 28,  5, 70, 43, 57,  6, 18, 31, 67, 25, 54,\n",
       "       12, 55, 95])"
      ]
     },
     "execution_count": 22,
     "metadata": {},
     "output_type": "execute_result"
    }
   ],
   "source": [
    "# 有点深奥了\n",
    "x1 = np.random.choice(x.shape[0],20,replace=False)\n",
    "x1"
   ]
  },
  {
   "cell_type": "code",
   "execution_count": 23,
   "metadata": {},
   "outputs": [
    {
     "data": {
      "text/plain": [
       "(20, 2)"
      ]
     },
     "execution_count": 23,
     "metadata": {},
     "output_type": "execute_result"
    }
   ],
   "source": [
    "selection = x[x1]\n",
    "selection.shape"
   ]
  },
  {
   "cell_type": "code",
   "execution_count": 24,
   "metadata": {
    "scrolled": true
   },
   "outputs": [
    {
     "data": {
      "text/plain": [
       "<matplotlib.collections.PathCollection at 0x7ceba04ef0>"
      ]
     },
     "execution_count": 24,
     "metadata": {},
     "output_type": "execute_result"
    },
    {
     "data": {
      "image/png": "[encoded data removed]",
      "text/plain": [
       "<Figure size 432x288 with 1 Axes>"
      ]
     },
     "metadata": {},
     "output_type": "display_data"
    }
   ],
   "source": [
    "# 还看不懂\n",
    "plt.scatter(x[:,0],x[:,1],alpha=0.3)\n",
    "plt.scatter(selection[:,0],selection[:,1],\n",
    "           facecolor=\"none\",edgecolor ='b',s=200)"
   ]
  },
  {
   "cell_type": "markdown",
   "metadata": {},
   "source": [
    "常用语快速分隔数据,验证统计模型"
   ]
  },
  {
   "cell_type": "markdown",
   "metadata": {},
   "source": [
    "***听花哨的索引修改值***"
   ]
  },
  {
   "cell_type": "markdown",
   "metadata": {},
   "source": [
    "花哨索引可以用来获取部分数组, 也可以用来修改部分数组."
   ]
  },
  {
   "cell_type": "code",
   "execution_count": 26,
   "metadata": {},
   "outputs": [
    {
     "data": {
      "text/plain": [
       "array([ 0, 99, 99,  3, 99,  5,  6,  7, 99,  9])"
      ]
     },
     "execution_count": 26,
     "metadata": {},
     "output_type": "execute_result"
    }
   ],
   "source": [
    "x = np.arange(10)\n",
    "i = np.array([2,1,8,4])\n",
    "x[i] =99\n",
    "x"
   ]
  },
  {
   "cell_type": "markdown",
   "metadata": {},
   "source": [
    "操作中重复的索引会导致一些错误"
   ]
  },
  {
   "cell_type": "code",
   "execution_count": 30,
   "metadata": {},
   "outputs": [
    {
     "name": "stdout",
     "output_type": "stream",
     "text": [
      "[0. 0. 0. 0. 0. 0. 0. 0. 0. 0.]\n"
     ]
    },
    {
     "data": {
      "text/plain": [
       "array([6., 0., 0., 0., 0., 0., 0., 0., 0., 0.])"
      ]
     },
     "execution_count": 30,
     "metadata": {},
     "output_type": "execute_result"
    }
   ],
   "source": [
    "x= np.zeros(10)\n",
    "print(x)\n",
    "x[[0,0]] = [4,6]    # x[[0,0]]表示啥意思\n",
    "x"
   ]
  },
  {
   "cell_type": "markdown",
   "metadata": {},
   "source": [
    "### 示例: 数据区间划分"
   ]
  },
  {
   "cell_type": "markdown",
   "metadata": {},
   "source": [
    "比如 : 我们有1000个值,希望快速统计分布在每个区间中的数据频次, 可以用ufunc.at来计算"
   ]
  },
  {
   "cell_type": "code",
   "execution_count": 34,
   "metadata": {},
   "outputs": [
    {
     "data": {
      "text/plain": [
       "[<matplotlib.lines.Line2D at 0x7ceba6d550>]"
      ]
     },
     "execution_count": 34,
     "metadata": {},
     "output_type": "execute_result"
    },
    {
     "data": {
      "image/png": "[encoded data removed]",
      "text/plain": [
       "<Figure size 432x288 with 1 Axes>"
      ]
     },
     "metadata": {},
     "output_type": "display_data"
    }
   ],
   "source": [
    "np.random.seed(42)\n",
    "x = np.random.randn(100)\n",
    "#手动计算直方图\n",
    "bins = np.linspace(-5,5,20)\n",
    "counts = np.zeros_like(bins)\n",
    "\n",
    "# 为每个x找到合适的区间\n",
    "i = np.searchsorted(bins,x)\n",
    "\n",
    "# 为每个区间加1\n",
    "np.add.at(counts,i,1)\n",
    "# 画出结果\n",
    "plt.plot(bins,counts,linestyle='steps')"
   ]
  },
  {
   "cell_type": "markdown",
   "metadata": {},
   "source": [
    "Matplotlib提供了plt.hist()方法,该方法仅用一行代码就实现上述功能"
   ]
  },
  {
   "cell_type": "code",
   "execution_count": 35,
   "metadata": {},
   "outputs": [
    {
     "data": {
      "text/plain": [
       "(array([ 0.,  0.,  0.,  0.,  1.,  3.,  7.,  9., 23., 22., 17., 10.,  7.,\n",
       "         1.,  0.,  0.,  0.,  0.,  0.]),\n",
       " array([-5.        , -4.47368421, -3.94736842, -3.42105263, -2.89473684,\n",
       "        -2.36842105, -1.84210526, -1.31578947, -0.78947368, -0.26315789,\n",
       "         0.26315789,  0.78947368,  1.31578947,  1.84210526,  2.36842105,\n",
       "         2.89473684,  3.42105263,  3.94736842,  4.47368421,  5.        ]),\n",
       " <a list of 1 Patch objects>)"
      ]
     },
     "execution_count": 35,
     "metadata": {},
     "output_type": "execute_result"
    },
    {
     "data": {
      "image/png": "[encoded data removed]",
      "text/plain": [
       "<Figure size 432x288 with 1 Axes>"
      ]
     },
     "metadata": {},
     "output_type": "display_data"
    }
   ],
   "source": [
    "plt.hist(x,bins,histtype=\"step\")"
   ]
  },
  {
   "cell_type": "markdown",
   "metadata": {},
   "source": [
    "## 2.8 数组的排序"
   ]
  },
  {
   "cell_type": "markdown",
   "metadata": {},
   "source": [
    "    -插入排序\n",
    "    -选择排序\n",
    "    -归并排序\n",
    "    -快速排序\n",
    "    -冒泡排序等"
   ]
  },
  {
   "cell_type": "markdown",
   "metadata": {},
   "source": [
    "### 2.8.1 NumPy中的快速排序 : np.sort 和np.argsort"
   ]
  },
  {
   "cell_type": "markdown",
   "metadata": {},
   "source": [
    "Python中内置的排序方法. sort()和sorted(),但效率没有np中的高. "
   ]
  },
  {
   "cell_type": "code",
   "execution_count": 37,
   "metadata": {},
   "outputs": [
    {
     "data": {
      "text/plain": [
       "array([1, 2, 3, 4, 5])"
      ]
     },
     "execution_count": 37,
     "metadata": {},
     "output_type": "execute_result"
    }
   ],
   "source": [
    "# 不修改原数组的值,用np.sort\n",
    "x = np.array([2,1,4,3,5])\n",
    "np.sort(x)"
   ]
  },
  {
   "cell_type": "code",
   "execution_count": 38,
   "metadata": {},
   "outputs": [],
   "source": [
    "# 如果用排好序的数组替代原来数组, 用sort()方法\n",
    "x.sort()"
   ]
  },
  {
   "cell_type": "code",
   "execution_count": 39,
   "metadata": {},
   "outputs": [
    {
     "data": {
      "text/plain": [
       "array([1, 0, 3, 2, 4], dtype=int64)"
      ]
     },
     "execution_count": 39,
     "metadata": {},
     "output_type": "execute_result"
    }
   ],
   "source": [
    "# argsort(),返回排好序后的索引值\n",
    "x = np.array([2,1,4,3,5])\n",
    "i = np.argsort(x)\n",
    "i"
   ]
  },
  {
   "cell_type": "code",
   "execution_count": 40,
   "metadata": {},
   "outputs": [
    {
     "data": {
      "text/plain": [
       "array([[6, 3, 7, 4, 6, 9],\n",
       "       [2, 6, 7, 4, 3, 7],\n",
       "       [7, 2, 5, 4, 1, 7],\n",
       "       [5, 1, 4, 0, 9, 5]])"
      ]
     },
     "execution_count": 40,
     "metadata": {},
     "output_type": "execute_result"
    }
   ],
   "source": [
    "# 沿着行或列排序,NumPy排序算法中有个一个功能参数axis\n",
    "rand = np.random.RandomState(42)\n",
    "x = rand.randint(0,10,(4,6))\n",
    "x"
   ]
  },
  {
   "cell_type": "code",
   "execution_count": 41,
   "metadata": {},
   "outputs": [
    {
     "data": {
      "text/plain": [
       "array([[2, 1, 4, 0, 1, 5],\n",
       "       [5, 2, 5, 4, 3, 7],\n",
       "       [6, 3, 7, 4, 6, 7],\n",
       "       [7, 6, 7, 4, 9, 9]])"
      ]
     },
     "execution_count": 41,
     "metadata": {},
     "output_type": "execute_result"
    }
   ],
   "source": [
    "#对x的每一列排序\n",
    "np.sort(x,axis=0)"
   ]
  },
  {
   "cell_type": "code",
   "execution_count": 42,
   "metadata": {
    "scrolled": true
   },
   "outputs": [
    {
     "data": {
      "text/plain": [
       "array([[3, 4, 6, 6, 7, 9],\n",
       "       [2, 3, 4, 6, 7, 7],\n",
       "       [1, 2, 4, 5, 7, 7],\n",
       "       [0, 1, 4, 5, 5, 9]])"
      ]
     },
     "execution_count": 42,
     "metadata": {},
     "output_type": "execute_result"
    }
   ],
   "source": [
    "# 对x的每一行排序\n",
    "np.sort(x,axis=1)"
   ]
  },
  {
   "cell_type": "markdown",
   "metadata": {},
   "source": [
    "### 2.8.2 部分排序 : 分隔\n",
    "找到数组中的第K小的值, NumPy 的np.partition()"
   ]
  },
  {
   "cell_type": "code",
   "execution_count": 43,
   "metadata": {},
   "outputs": [
    {
     "data": {
      "text/plain": [
       "array([2, 1, 3, 4, 6, 5, 7])"
      ]
     },
     "execution_count": 43,
     "metadata": {},
     "output_type": "execute_result"
    }
   ],
   "source": [
    "x = np.array([7,2,3,1,6,5,4])\n",
    "np.partition(x,3)       # 2不是第2小的值吗?"
   ]
  },
  {
   "cell_type": "markdown",
   "metadata": {},
   "source": [
    "### 2.8.3 示例:K个最近指\n",
    "略\n",
    "## 2.9结构化数据 : NumPy的结构化数组"
   ]
  },
  {
   "cell_type": "markdown",
   "metadata": {},
   "source": [
    "### 2.9.1 生成机构和数组"
   ]
  },
  {
   "cell_type": "code",
   "execution_count": 44,
   "metadata": {},
   "outputs": [
    {
     "data": {
      "text/plain": [
       "dtype([('name', '<U10'), ('age', '<i4'), ('weight', '<f8')])"
      ]
     },
     "execution_count": 44,
     "metadata": {},
     "output_type": "execute_result"
    }
   ],
   "source": [
    "np.dtype({'names':('name','age','weight'),'formats':('U10','i4','f8')})"
   ]
  },
  {
   "cell_type": "code",
   "execution_count": 47,
   "metadata": {},
   "outputs": [
    {
     "data": {
      "text/plain": [
       "dtype([('name', 'S10'), ('age', '<i4'), ('weight', '<f8')])"
      ]
     },
     "execution_count": 47,
     "metadata": {},
     "output_type": "execute_result"
    }
   ],
   "source": [
    "np.dtype([('name','S10'),('age','i4'),('weight','f8')])"
   ]
  }
 ],
 "metadata": {
  "kernelspec": {
   "display_name": "Python 3",
   "language": "python",
   "name": "python3"
  },
  "language_info": {
   "codemirror_mode": {
    "name": "ipython",
    "version": 3
   },
   "file_extension": ".py",
   "mimetype": "text/x-python",
   "name": "python",
   "nbconvert_exporter": "python",
   "pygments_lexer": "ipython3",
   "version": "3.6.5"
  }
 },
 "nbformat": 4,
 "nbformat_minor": 2
}
